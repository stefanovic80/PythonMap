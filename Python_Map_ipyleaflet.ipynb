{
 "cells": [
  {
   "cell_type": "code",
   "execution_count": 1,
   "metadata": {},
   "outputs": [
    {
     "data": {
      "application/vnd.jupyter.widget-view+json": {
       "model_id": "c23d08d24ebb45168cb4eac55a9185d0",
       "version_major": 2,
       "version_minor": 0
      },
      "text/plain": [
       "Map(center=[0.0, 0.0], controls=(ZoomControl(options=['position', 'zoom_in_text', 'zoom_in_title', 'zoom_out_t…"
      ]
     },
     "metadata": {},
     "output_type": "display_data"
    }
   ],
   "source": [
    "import ipyleaflet\n",
    "import gpxpy\n",
    "from ipyleaflet import Map\n",
    "\n",
    "# create map\n",
    "basic_map = ipyleaflet.Map(zoom = 1)\n",
    "# basic_map = Map(zoom=4)\n",
    "\n",
    "# display map\n",
    "basic_map\n",
    "# display(basic_map)"
   ]
  },
  {
   "cell_type": "code",
   "execution_count": 3,
   "metadata": {},
   "outputs": [],
   "source": [
    "gpx_file_path = 'Gran_Fondo_Porto_SantElpidio_2022.gpx'\n",
    "\n",
    "with open(gpx_file_path) as fh:\n",
    "    gpxFile = gpxpy.parse(fh)"
   ]
  }
 ],
 "metadata": {
  "kernelspec": {
   "display_name": "Python 3 (ipykernel)",
   "language": "python",
   "name": "python3"
  },
  "language_info": {
   "codemirror_mode": {
    "name": "ipython",
    "version": 3
   },
   "file_extension": ".py",
   "mimetype": "text/x-python",
   "name": "python",
   "nbconvert_exporter": "python",
   "pygments_lexer": "ipython3",
   "version": "3.9.12"
  }
 },
 "nbformat": 4,
 "nbformat_minor": 2
}
