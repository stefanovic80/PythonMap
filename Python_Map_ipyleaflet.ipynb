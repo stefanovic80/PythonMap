{
 "cells": [
  {
   "cell_type": "code",
   "execution_count": 1,
   "metadata": {},
   "outputs": [
    {
     "data": {
      "text/html": [
       "<style>.container { width:100% !important; }</style>"
      ],
      "text/plain": [
       "<IPython.core.display.HTML object>"
      ]
     },
     "metadata": {},
     "output_type": "display_data"
    },
    {
     "data": {
      "text/html": [
       "<style>.output_result { max-width:100% !important; }</style>"
      ],
      "text/plain": [
       "<IPython.core.display.HTML object>"
      ]
     },
     "metadata": {},
     "output_type": "display_data"
    },
    {
     "data": {
      "text/html": [
       "<style>.prompt { display:none !important; }</style>"
      ],
      "text/plain": [
       "<IPython.core.display.HTML object>"
      ]
     },
     "metadata": {},
     "output_type": "display_data"
    }
   ],
   "source": [
    "from IPython.display import display, HTML\n",
    "display(HTML(\"<style>.container { width:100% !important; }</style>\"))\n",
    "display(HTML(\"<style>.output_result { max-width:100% !important; }</style>\"))\n",
    "display(HTML(\"<style>.prompt { display:none !important; }</style>\"))"
   ]
  },
  {
   "cell_type": "code",
   "execution_count": 2,
   "metadata": {},
   "outputs": [
    {
     "data": {
      "application/vnd.jupyter.widget-view+json": {
       "model_id": "98d0d6d0d22a4515b7dddd3225a21640",
       "version_major": 2,
       "version_minor": 0
      },
      "text/plain": [
       "Map(center=[0.0, 0.0], controls=(ZoomControl(options=['position', 'zoom_in_text', 'zoom_in_title', 'zoom_out_t…"
      ]
     },
     "metadata": {},
     "output_type": "display_data"
    }
   ],
   "source": [
    "from ipyleaflet import Map\n",
    "basic_map = Map(zoom = 1)\n",
    "basic_map"
   ]
  },
  {
   "cell_type": "code",
   "execution_count": 3,
   "metadata": {},
   "outputs": [],
   "source": [
    "import gpxpy\n",
    "gpx_file_path = 'Gran_Fondo_Porto_SantElpidio_2022.gpx'\n",
    "\n",
    "with open(gpx_file_path) as fh:\n",
    "    gpxFile = gpxpy.parse(fh)"
   ]
  },
  {
   "cell_type": "code",
   "execution_count": 4,
   "metadata": {},
   "outputs": [],
   "source": [
    "from statistics import mean\n",
    "#import ipyleaflet\n",
    "from ipyleaflet import basemaps, FullScreenControl, LayerGroup, \\\n",
    "    MeasureControl, Polyline, Marker, CircleMarker, WidgetControl\n",
    "from ipywidgets import Button, HTML, HBox, VBox, Checkbox, FileUpload, \\\n",
    "    Label, Output, IntSlider, Layout, Image, link\n",
    "from bqplot import pyplot as plt\n",
    "from bqplot import *"
   ]
  },
  {
   "cell_type": "code",
   "execution_count": 5,
   "metadata": {},
   "outputs": [
    {
     "data": {
      "application/vnd.jupyter.widget-view+json": {
       "model_id": "95ebbf16ce3a44e88d695c945e038459",
       "version_major": 2,
       "version_minor": 0
      },
      "text/plain": [
       "Map(center=[43.14745246278689, 13.682265709631148], controls=(ZoomControl(options=['position', 'zoom_in_text',…"
      ]
     },
     "metadata": {},
     "output_type": "display_data"
    }
   ],
   "source": [
    "#def plot_map(gpx):\n",
    "\"\"\"\n",
    "Plot the GPS trace on a map\n",
    "\"\"\"\n",
    "from ipyleaflet import Map\n",
    "\n",
    "points = [p.point for p in gpxFile.get_points_data(distance_2d=True)]\n",
    "mean_lat = mean(p.latitude for p in points)\n",
    "mean_lng = mean(p.longitude for p in points)\n",
    "\n",
    "# create the map\n",
    "m = Map(center=(mean_lat, mean_lng), zoom=12, basemap=basemaps.Stamen.Terrain)\n",
    "\n",
    "# show trace\n",
    "line = Polyline(locations=[[[p.latitude, p.longitude] for p in points],],\n",
    "                color = \"red\", fill=False)\n",
    "m.add_layer(line)\n",
    "\n",
    "# add markers\n",
    "waypoints = [\n",
    "    Marker(location=(point.latitude, point.longitude), title=point.name,\n",
    "           popup=HTML(value=point.name), draggable=False)\n",
    "    for point in gpxFile.waypoints\n",
    "]\n",
    "waypoints_layer = LayerGroup(layers=waypoints)\n",
    "#m.add_layer(waypoints_layer)\n",
    "\n",
    "# add a checkbox to show / hide waypoints\n",
    "waypoints_checkbox = Checkbox(value=True, description='Show Waypoints')\n",
    "\n",
    "def update_visible(change):\n",
    "    for p in waypoints:\n",
    "        p.visible = change['new']\n",
    "\n",
    "waypoints_checkbox.observe(update_visible, 'value')\n",
    "waypoint_control = WidgetControl(widget=waypoints_checkbox, position='bottomright')\n",
    "m.add_control(waypoint_control)\n",
    "\n",
    "# enable full screen mode\n",
    "m.add_control(FullScreenControl())\n",
    "\n",
    "# add measure control\n",
    "measure = MeasureControl(\n",
    "    position='bottomleft',\n",
    "    active_color = 'orange',\n",
    "    primary_length_unit = 'kilometers'\n",
    ")\n",
    "m.add_control(measure)\n",
    "\n",
    "#return m\n",
    "m"
   ]
  },
  {
   "cell_type": "code",
   "execution_count": 6,
   "metadata": {},
   "outputs": [],
   "source": [
    "# https://www.youtube.com/watch?v=jAKUPm-Cul0\n",
    "#j = 90\n",
    "#gpxFile.get_points_data(distance_2d=True)[j]#.tracks().segments[j]"
   ]
  },
  {
   "cell_type": "code",
   "execution_count": 7,
   "metadata": {},
   "outputs": [
    {
     "data": {
      "application/vnd.jupyter.widget-view+json": {
       "model_id": "676541c1911b45b49499f39c1cd69453",
       "version_major": 2,
       "version_minor": 0
      },
      "text/plain": [
       "Figure(axes=[Axis(label='Distance (km)', scale=LinearScale(allow_padding=False)), Axis(label='Elevation (m)', …"
      ]
     },
     "metadata": {},
     "output_type": "display_data"
    }
   ],
   "source": [
    "#def plot_elevation(gpx):\n",
    "\"\"\"\n",
    "Return an elevation graph for the given gpx trace\n",
    "\"\"\"\n",
    "points = gpxFile.get_points_data(distance_2d=True)\n",
    "px = [p.distance_from_start / 1000 for p in points]\n",
    "py = [p.point.elevation for p in points]\n",
    "\n",
    "x_scale, y_scale = LinearScale(), LinearScale()\n",
    "x_scale.allow_padding = False\n",
    "x_ax = Axis(label='Distance (km)', scale=x_scale)\n",
    "y_ax = Axis(label='Elevation (m)', scale=y_scale, orientation='vertical')\n",
    "\n",
    "lines = Lines(x=px, y=py, scales={'x': x_scale, 'y': y_scale})\n",
    "\n",
    "u = 90\n",
    "elevation = Figure(title='Elevation Chart %d' %u, axes=[x_ax, y_ax], marks=[lines])\n",
    "\n",
    "\n",
    "elevation.layout.width = 'auto'\n",
    "elevation.layout.height = 'auto'\n",
    "elevation.layout.min_height = '300px'\n",
    "\n",
    "#elevation.interaction = IndexSelector(scale=x_scale)\n",
    "#return elevation\n",
    "elevation"
   ]
  },
  {
   "cell_type": "code",
   "execution_count": 25,
   "metadata": {},
   "outputs": [
    {
     "data": {
      "text/html": [
       "<div>\n",
       "<style scoped>\n",
       "    .dataframe tbody tr th:only-of-type {\n",
       "        vertical-align: middle;\n",
       "    }\n",
       "\n",
       "    .dataframe tbody tr th {\n",
       "        vertical-align: top;\n",
       "    }\n",
       "\n",
       "    .dataframe thead th {\n",
       "        text-align: right;\n",
       "    }\n",
       "</style>\n",
       "<table border=\"1\" class=\"dataframe\">\n",
       "  <thead>\n",
       "    <tr style=\"text-align: right;\">\n",
       "      <th></th>\n",
       "      <th>time</th>\n",
       "      <th>latitude</th>\n",
       "      <th>longitude</th>\n",
       "      <th>elevation</th>\n",
       "    </tr>\n",
       "  </thead>\n",
       "  <tbody>\n",
       "    <tr>\n",
       "      <th>0</th>\n",
       "      <td>2022-04-18 00:00:00+00:00</td>\n",
       "      <td>43.23870</td>\n",
       "      <td>13.75904</td>\n",
       "      <td>19.0</td>\n",
       "    </tr>\n",
       "    <tr>\n",
       "      <th>1</th>\n",
       "      <td>2022-04-18 00:00:02+00:00</td>\n",
       "      <td>43.23864</td>\n",
       "      <td>13.75896</td>\n",
       "      <td>19.0</td>\n",
       "    </tr>\n",
       "    <tr>\n",
       "      <th>2</th>\n",
       "      <td>2022-04-18 00:00:02+00:00</td>\n",
       "      <td>43.23860</td>\n",
       "      <td>13.75896</td>\n",
       "      <td>20.0</td>\n",
       "    </tr>\n",
       "    <tr>\n",
       "      <th>3</th>\n",
       "      <td>2022-04-18 00:00:04+00:00</td>\n",
       "      <td>43.23855</td>\n",
       "      <td>13.75898</td>\n",
       "      <td>19.0</td>\n",
       "    </tr>\n",
       "    <tr>\n",
       "      <th>4</th>\n",
       "      <td>2022-04-18 00:00:05+00:00</td>\n",
       "      <td>43.23850</td>\n",
       "      <td>13.75907</td>\n",
       "      <td>19.0</td>\n",
       "    </tr>\n",
       "  </tbody>\n",
       "</table>\n",
       "</div>"
      ],
      "text/plain": [
       "                       time  latitude  longitude  elevation\n",
       "0 2022-04-18 00:00:00+00:00  43.23870   13.75904       19.0\n",
       "1 2022-04-18 00:00:02+00:00  43.23864   13.75896       19.0\n",
       "2 2022-04-18 00:00:02+00:00  43.23860   13.75896       20.0\n",
       "3 2022-04-18 00:00:04+00:00  43.23855   13.75898       19.0\n",
       "4 2022-04-18 00:00:05+00:00  43.23850   13.75907       19.0"
      ]
     },
     "execution_count": 25,
     "metadata": {},
     "output_type": "execute_result"
    }
   ],
   "source": [
    "import pandas as pd\n",
    "j = 0\n",
    "points = []\n",
    "for segment in gpxFile.tracks[j].segments:\n",
    "    for p in segment.points:\n",
    "        points.append({\n",
    "            'time': p.time,\n",
    "            'latitude': p.latitude,\n",
    "            'longitude': p.longitude,\n",
    "            'elevation': p.elevation,\n",
    "        })\n",
    "coords = pd.DataFrame.from_records(points)\n",
    "coords.head()"
   ]
  },
  {
   "cell_type": "code",
   "execution_count": null,
   "metadata": {},
   "outputs": [],
   "source": []
  }
 ],
 "metadata": {
  "kernelspec": {
   "display_name": "Python 3 (ipykernel)",
   "language": "python",
   "name": "python3"
  },
  "language_info": {
   "codemirror_mode": {
    "name": "ipython",
    "version": 3
   },
   "file_extension": ".py",
   "mimetype": "text/x-python",
   "name": "python",
   "nbconvert_exporter": "python",
   "pygments_lexer": "ipython3",
   "version": "3.9.12"
  }
 },
 "nbformat": 4,
 "nbformat_minor": 2
}
