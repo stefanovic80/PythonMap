{
 "cells": [
  {
   "cell_type": "code",
   "execution_count": 79,
   "metadata": {},
   "outputs": [
    {
     "data": {
      "text/html": [
       "<style>.container { width:100% !important; }</style>"
      ],
      "text/plain": [
       "<IPython.core.display.HTML object>"
      ]
     },
     "metadata": {},
     "output_type": "display_data"
    },
    {
     "data": {
      "text/html": [
       "<style>.output_result { max-width:100% !important; }</style>"
      ],
      "text/plain": [
       "<IPython.core.display.HTML object>"
      ]
     },
     "metadata": {},
     "output_type": "display_data"
    },
    {
     "data": {
      "text/html": [
       "<style>.prompt { display:none !important; }</style>"
      ],
      "text/plain": [
       "<IPython.core.display.HTML object>"
      ]
     },
     "metadata": {},
     "output_type": "display_data"
    }
   ],
   "source": [
    "from IPython.display import display, HTML\n",
    "display(HTML(\"<style>.container { width:100% !important; }</style>\"))\n",
    "display(HTML(\"<style>.output_result { max-width:100% !important; }</style>\"))\n",
    "display(HTML(\"<style>.prompt { display:none !important; }</style>\"))"
   ]
  },
  {
   "cell_type": "code",
   "execution_count": 80,
   "metadata": {},
   "outputs": [
    {
     "data": {
      "application/vnd.jupyter.widget-view+json": {
       "model_id": "4b40c7f89373469594efb4daf2ee78f6",
       "version_major": 2,
       "version_minor": 0
      },
      "text/plain": [
       "Map(center=[0.0, 0.0], controls=(ZoomControl(options=['position', 'zoom_in_text', 'zoom_in_title', 'zoom_out_t…"
      ]
     },
     "metadata": {},
     "output_type": "display_data"
    }
   ],
   "source": [
    "from ipyleaflet import Map\n",
    "basic_map = Map(zoom = 1)\n",
    "basic_map"
   ]
  },
  {
   "cell_type": "code",
   "execution_count": 81,
   "metadata": {},
   "outputs": [],
   "source": [
    "import gpxpy\n",
    "#gpx_file_path = 'Gran_Fondo_Porto_SantElpidio_2022.gpx'\n",
    "gpx_file_path = 'Cesena_Fontanella_Pantani_Sorrivoli_Centenara_Cesena.gpx'\n",
    "\n",
    "with open(gpx_file_path) as fh:\n",
    "    gpxFile = gpxpy.parse(fh)"
   ]
  },
  {
   "cell_type": "code",
   "execution_count": 82,
   "metadata": {},
   "outputs": [],
   "source": [
    "from statistics import mean\n",
    "#import ipyleaflet\n",
    "from ipyleaflet import basemaps, FullScreenControl, LayerGroup, \\\n",
    "    MeasureControl, Polyline, Marker, CircleMarker, WidgetControl\n",
    "from ipywidgets import Button, HTML, HBox, VBox, Checkbox, FileUpload, \\\n",
    "    Label, Output, IntSlider, Layout, Image, link\n",
    "from bqplot import pyplot as plt\n",
    "from bqplot import *"
   ]
  },
  {
   "cell_type": "code",
   "execution_count": 83,
   "metadata": {},
   "outputs": [
    {
     "data": {
      "application/vnd.jupyter.widget-view+json": {
       "model_id": "bbd2bb0627a14f189313023a2f91c47b",
       "version_major": 2,
       "version_minor": 0
      },
      "text/plain": [
       "Map(center=[44.079069151812824, 12.218333058224683], controls=(ZoomControl(options=['position', 'zoom_in_text'…"
      ]
     },
     "metadata": {},
     "output_type": "display_data"
    }
   ],
   "source": [
    "#def plot_map(gpx):\n",
    "\"\"\"\n",
    "Plot the GPS trace on a map\n",
    "\"\"\"\n",
    "from ipyleaflet import Map\n",
    "\n",
    "points = [p.point for p in gpxFile.get_points_data(distance_2d=True)]\n",
    "mean_lat = mean(p.latitude for p in points)\n",
    "mean_lng = mean(p.longitude for p in points)\n",
    "\n",
    "# create the map\n",
    "m = Map(center=(mean_lat, mean_lng), zoom=12, basemap=basemaps.Stamen.Terrain)\n",
    "\n",
    "# show trace\n",
    "line = Polyline(locations=[[[p.latitude, p.longitude] for p in points],],\n",
    "                color = \"red\", fill=False)\n",
    "m.add_layer(line)\n",
    "\n",
    "# add markers\n",
    "waypoints = [\n",
    "    Marker(location=(point.latitude, point.longitude), title=point.name,\n",
    "           popup=HTML(value=point.name), draggable=False)\n",
    "    for point in gpxFile.waypoints\n",
    "]\n",
    "waypoints_layer = LayerGroup(layers=waypoints)\n",
    "#m.add_layer(waypoints_layer)\n",
    "\n",
    "# add a checkbox to show / hide waypoints\n",
    "waypoints_checkbox = Checkbox(value=True, description='Show Waypoints')\n",
    "\n",
    "def update_visible(change):\n",
    "    for p in waypoints:\n",
    "        p.visible = change['new']\n",
    "\n",
    "waypoints_checkbox.observe(update_visible, 'value')\n",
    "waypoint_control = WidgetControl(widget=waypoints_checkbox, position='bottomright')\n",
    "m.add_control(waypoint_control)\n",
    "\n",
    "# enable full screen mode\n",
    "m.add_control(FullScreenControl())\n",
    "\n",
    "# add measure control\n",
    "measure = MeasureControl(\n",
    "    position='bottomleft',\n",
    "    active_color = 'orange',\n",
    "    primary_length_unit = 'kilometers'\n",
    ")\n",
    "m.add_control(measure)\n",
    "\n",
    "#return m\n",
    "m"
   ]
  },
  {
   "cell_type": "code",
   "execution_count": 84,
   "metadata": {},
   "outputs": [],
   "source": [
    "# https://www.youtube.com/watch?v=jAKUPm-Cul0\n",
    "#j = 90\n",
    "#gpxFile.get_points_data(distance_2d=True)[j]#.tracks().segments[j]"
   ]
  },
  {
   "cell_type": "code",
   "execution_count": 85,
   "metadata": {},
   "outputs": [
    {
     "data": {
      "application/vnd.jupyter.widget-view+json": {
       "model_id": "32b5d1b3dd514314b709c19cb9740aa5",
       "version_major": 2,
       "version_minor": 0
      },
      "text/plain": [
       "Figure(axes=[Axis(label='Distance (km)', scale=LinearScale(allow_padding=False)), Axis(label='Elevation (m)', …"
      ]
     },
     "metadata": {},
     "output_type": "display_data"
    }
   ],
   "source": [
    "#def plot_elevation(gpx):\n",
    "\"\"\"\n",
    "Return an elevation graph for the given gpx trace\n",
    "\"\"\"\n",
    "points = gpxFile.get_points_data(distance_2d=True)\n",
    "px = [p.distance_from_start / 1000 for p in points]\n",
    "py = [p.point.elevation for p in points]\n",
    "\n",
    "x_scale, y_scale = LinearScale(), LinearScale()\n",
    "x_scale.allow_padding = False\n",
    "x_ax = Axis(label='Distance (km)', scale=x_scale)\n",
    "y_ax = Axis(label='Elevation (m)', scale=y_scale, orientation='vertical')\n",
    "\n",
    "lines = Lines(x=px, y=py, scales={'x': x_scale, 'y': y_scale})\n",
    "\n",
    "u = 90\n",
    "elevation = Figure(title='Elevation Chart %d' %u, axes=[x_ax, y_ax], marks=[lines])\n",
    "\n",
    "\n",
    "elevation.layout.width = 'auto'\n",
    "elevation.layout.height = 'auto'\n",
    "elevation.layout.min_height = '300px'\n",
    "\n",
    "#elevation.interaction = IndexSelector(scale=x_scale)\n",
    "#return elevation\n",
    "elevation"
   ]
  },
  {
   "cell_type": "code",
   "execution_count": 86,
   "metadata": {},
   "outputs": [
    {
     "data": {
      "text/html": [
       "<div>\n",
       "<style scoped>\n",
       "    .dataframe tbody tr th:only-of-type {\n",
       "        vertical-align: middle;\n",
       "    }\n",
       "\n",
       "    .dataframe tbody tr th {\n",
       "        vertical-align: top;\n",
       "    }\n",
       "\n",
       "    .dataframe thead th {\n",
       "        text-align: right;\n",
       "    }\n",
       "</style>\n",
       "<table border=\"1\" class=\"dataframe\">\n",
       "  <thead>\n",
       "    <tr style=\"text-align: right;\">\n",
       "      <th></th>\n",
       "      <th>time</th>\n",
       "      <th>latitude</th>\n",
       "      <th>longitude</th>\n",
       "      <th>elevation</th>\n",
       "      <th>DeltaTime</th>\n",
       "      <th>DeltaSpace</th>\n",
       "      <th>speed</th>\n",
       "    </tr>\n",
       "  </thead>\n",
       "  <tbody>\n",
       "    <tr>\n",
       "      <th>0</th>\n",
       "      <td>2022-10-02 15:13:49+00:00</td>\n",
       "      <td>44.140379</td>\n",
       "      <td>12.238573</td>\n",
       "      <td>34.0</td>\n",
       "      <td>0.0</td>\n",
       "      <td>-0.001283</td>\n",
       "      <td>-inf</td>\n",
       "    </tr>\n",
       "    <tr>\n",
       "      <th>1</th>\n",
       "      <td>2022-10-02 15:13:50+00:00</td>\n",
       "      <td>44.140386</td>\n",
       "      <td>12.238527</td>\n",
       "      <td>33.9</td>\n",
       "      <td>1.0</td>\n",
       "      <td>-0.001238</td>\n",
       "      <td>-0.004456</td>\n",
       "    </tr>\n",
       "    <tr>\n",
       "      <th>2</th>\n",
       "      <td>2022-10-02 15:13:52+00:00</td>\n",
       "      <td>44.140402</td>\n",
       "      <td>12.238450</td>\n",
       "      <td>33.8</td>\n",
       "      <td>2.0</td>\n",
       "      <td>-0.000494</td>\n",
       "      <td>-0.000890</td>\n",
       "    </tr>\n",
       "    <tr>\n",
       "      <th>3</th>\n",
       "      <td>2022-10-02 15:13:53+00:00</td>\n",
       "      <td>44.140413</td>\n",
       "      <td>12.238416</td>\n",
       "      <td>33.7</td>\n",
       "      <td>1.0</td>\n",
       "      <td>-0.000473</td>\n",
       "      <td>-0.001705</td>\n",
       "    </tr>\n",
       "    <tr>\n",
       "      <th>4</th>\n",
       "      <td>2022-10-02 15:13:55+00:00</td>\n",
       "      <td>44.140430</td>\n",
       "      <td>12.238361</td>\n",
       "      <td>33.6</td>\n",
       "      <td>2.0</td>\n",
       "      <td>-0.001202</td>\n",
       "      <td>-0.002164</td>\n",
       "    </tr>\n",
       "    <tr>\n",
       "      <th>...</th>\n",
       "      <td>...</td>\n",
       "      <td>...</td>\n",
       "      <td>...</td>\n",
       "      <td>...</td>\n",
       "      <td>...</td>\n",
       "      <td>...</td>\n",
       "      <td>...</td>\n",
       "    </tr>\n",
       "    <tr>\n",
       "      <th>5594</th>\n",
       "      <td>2022-10-02 16:53:51+00:00</td>\n",
       "      <td>44.139665</td>\n",
       "      <td>12.238379</td>\n",
       "      <td>34.1</td>\n",
       "      <td>1.0</td>\n",
       "      <td>0.007173</td>\n",
       "      <td>0.025824</td>\n",
       "    </tr>\n",
       "    <tr>\n",
       "      <th>5595</th>\n",
       "      <td>2022-10-02 16:53:52+00:00</td>\n",
       "      <td>44.139722</td>\n",
       "      <td>12.238415</td>\n",
       "      <td>34.1</td>\n",
       "      <td>1.0</td>\n",
       "      <td>0.006121</td>\n",
       "      <td>0.022034</td>\n",
       "    </tr>\n",
       "    <tr>\n",
       "      <th>5596</th>\n",
       "      <td>2022-10-02 16:53:53+00:00</td>\n",
       "      <td>44.139770</td>\n",
       "      <td>12.238448</td>\n",
       "      <td>34.1</td>\n",
       "      <td>1.0</td>\n",
       "      <td>-0.000464</td>\n",
       "      <td>-0.001672</td>\n",
       "    </tr>\n",
       "    <tr>\n",
       "      <th>5597</th>\n",
       "      <td>2022-10-02 16:53:55+00:00</td>\n",
       "      <td>44.139764</td>\n",
       "      <td>12.238454</td>\n",
       "      <td>34.1</td>\n",
       "      <td>2.0</td>\n",
       "      <td>0.001808</td>\n",
       "      <td>0.003254</td>\n",
       "    </tr>\n",
       "    <tr>\n",
       "      <th>5598</th>\n",
       "      <td>2022-10-02 16:53:57+00:00</td>\n",
       "      <td>44.139777</td>\n",
       "      <td>12.238468</td>\n",
       "      <td>34.1</td>\n",
       "      <td>2.0</td>\n",
       "      <td>NaN</td>\n",
       "      <td>NaN</td>\n",
       "    </tr>\n",
       "  </tbody>\n",
       "</table>\n",
       "<p>5599 rows × 7 columns</p>\n",
       "</div>"
      ],
      "text/plain": [
       "                          time   latitude  longitude  elevation  DeltaTime  \\\n",
       "0    2022-10-02 15:13:49+00:00  44.140379  12.238573       34.0        0.0   \n",
       "1    2022-10-02 15:13:50+00:00  44.140386  12.238527       33.9        1.0   \n",
       "2    2022-10-02 15:13:52+00:00  44.140402  12.238450       33.8        2.0   \n",
       "3    2022-10-02 15:13:53+00:00  44.140413  12.238416       33.7        1.0   \n",
       "4    2022-10-02 15:13:55+00:00  44.140430  12.238361       33.6        2.0   \n",
       "...                        ...        ...        ...        ...        ...   \n",
       "5594 2022-10-02 16:53:51+00:00  44.139665  12.238379       34.1        1.0   \n",
       "5595 2022-10-02 16:53:52+00:00  44.139722  12.238415       34.1        1.0   \n",
       "5596 2022-10-02 16:53:53+00:00  44.139770  12.238448       34.1        1.0   \n",
       "5597 2022-10-02 16:53:55+00:00  44.139764  12.238454       34.1        2.0   \n",
       "5598 2022-10-02 16:53:57+00:00  44.139777  12.238468       34.1        2.0   \n",
       "\n",
       "      DeltaSpace     speed  \n",
       "0      -0.001283      -inf  \n",
       "1      -0.001238 -0.004456  \n",
       "2      -0.000494 -0.000890  \n",
       "3      -0.000473 -0.001705  \n",
       "4      -0.001202 -0.002164  \n",
       "...          ...       ...  \n",
       "5594    0.007173  0.025824  \n",
       "5595    0.006121  0.022034  \n",
       "5596   -0.000464 -0.001672  \n",
       "5597    0.001808  0.003254  \n",
       "5598         NaN       NaN  \n",
       "\n",
       "[5599 rows x 7 columns]"
      ]
     },
     "execution_count": 86,
     "metadata": {},
     "output_type": "execute_result"
    }
   ],
   "source": [
    "import pandas as pd\n",
    "\n",
    "j = 0\n",
    "points = []\n",
    "for segment in gpxFile.tracks[j].segments:\n",
    "    for p in segment.points:\n",
    "        points.append({\n",
    "            'time': p.time,\n",
    "            'latitude': p.latitude,\n",
    "            'longitude': p.longitude,\n",
    "            'elevation': p.elevation,\n",
    "        })\n",
    "coords = pd.DataFrame.from_records(points)\n",
    "\n",
    "from datetime import datetime\n",
    "\n",
    "timeList = [ datetime.timestamp( u ) for u in coords['time'] ]\n",
    "DeltaTime = np.diff(timeList)\n",
    "DeltaTime = np.append([0], DeltaTime)\n",
    "coords['DeltaTime'] = pd.Series( DeltaTime )\n",
    "\n",
    "space = ( (coords['latitude']*111.139)**2 + (coords['longitude']*111.139 )**2 + \\\n",
    " coords['elevation']**2 )**.5\n",
    "\n",
    "DeltaSpace = np.append([0], np.diff(space) )\n",
    "\n",
    "coords['DeltaSpace'] = pd.Series( np.diff(space) )\n",
    "coords['speed'] = 3.6*coords['DeltaSpace']/coords['DeltaTime']\n",
    "coords"
   ]
  }
 ],
 "metadata": {
  "kernelspec": {
   "display_name": "Python 3 (ipykernel)",
   "language": "python",
   "name": "python3"
  },
  "language_info": {
   "codemirror_mode": {
    "name": "ipython",
    "version": 3
   },
   "file_extension": ".py",
   "mimetype": "text/x-python",
   "name": "python",
   "nbconvert_exporter": "python",
   "pygments_lexer": "ipython3",
   "version": "3.9.12"
  }
 },
 "nbformat": 4,
 "nbformat_minor": 2
}
