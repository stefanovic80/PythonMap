{
 "cells": [
  {
   "cell_type": "code",
   "execution_count": 1,
   "metadata": {},
   "outputs": [
    {
     "data": {
      "text/html": [
       "<style>.container { width:100% !important; }</style>"
      ],
      "text/plain": [
       "<IPython.core.display.HTML object>"
      ]
     },
     "metadata": {},
     "output_type": "display_data"
    },
    {
     "data": {
      "text/html": [
       "<style>.output_result { max-width:100% !important; }</style>"
      ],
      "text/plain": [
       "<IPython.core.display.HTML object>"
      ]
     },
     "metadata": {},
     "output_type": "display_data"
    },
    {
     "data": {
      "text/html": [
       "<style>.prompt { display:none !important; }</style>"
      ],
      "text/plain": [
       "<IPython.core.display.HTML object>"
      ]
     },
     "metadata": {},
     "output_type": "display_data"
    }
   ],
   "source": [
    "from IPython.display import display, HTML\n",
    "display(HTML(\"<style>.container { width:100% !important; }</style>\"))\n",
    "display(HTML(\"<style>.output_result { max-width:100% !important; }</style>\"))\n",
    "display(HTML(\"<style>.prompt { display:none !important; }</style>\"))"
   ]
  },
  {
   "cell_type": "code",
   "execution_count": 4,
   "metadata": {},
   "outputs": [
    {
     "data": {
      "application/vnd.jupyter.widget-view+json": {
       "model_id": "7fa3dc1f64844c2d9812e139f6abf497",
       "version_major": 2,
       "version_minor": 0
      },
      "text/plain": [
       "Map(center=[0.0, 0.0], controls=(ZoomControl(options=['position', 'zoom_in_text', 'zoom_in_title', 'zoom_out_t…"
      ]
     },
     "metadata": {},
     "output_type": "display_data"
    }
   ],
   "source": [
    "from ipyleaflet import Map\n",
    "basic_map = Map(zoom = 1)\n",
    "basic_map"
   ]
  },
  {
   "cell_type": "code",
   "execution_count": 5,
   "metadata": {},
   "outputs": [],
   "source": [
    "import gpxpy\n",
    "gpx_file_path = 'Gran_Fondo_Porto_SantElpidio_2022.gpx'\n",
    "\n",
    "with open(gpx_file_path) as fh:\n",
    "    gpxFile = gpxpy.parse(fh)"
   ]
  },
  {
   "cell_type": "code",
   "execution_count": 6,
   "metadata": {},
   "outputs": [],
   "source": [
    "from statistics import mean\n",
    "#import ipyleaflet\n",
    "from ipyleaflet import basemaps, FullScreenControl, LayerGroup, \\\n",
    "    MeasureControl, Polyline, Marker, CircleMarker, WidgetControl\n",
    "from ipywidgets import Button, HTML, HBox, VBox, Checkbox, FileUpload, \\\n",
    "    Label, Output, IntSlider, Layout, Image, link\n",
    "from bqplot import pyplot as plt\n",
    "from bqplot import *"
   ]
  },
  {
   "cell_type": "code",
   "execution_count": 13,
   "metadata": {},
   "outputs": [
    {
     "data": {
      "application/vnd.jupyter.widget-view+json": {
       "model_id": "c057047c0ff94ecda4563b6a41bc8797",
       "version_major": 2,
       "version_minor": 0
      },
      "text/plain": [
       "Map(center=[43.14745246278689, 13.682265709631148], controls=(ZoomControl(options=['position', 'zoom_in_text',…"
      ]
     },
     "metadata": {},
     "output_type": "display_data"
    }
   ],
   "source": [
    "#def plot_map(gpx):\n",
    "\"\"\"\n",
    "Plot the GPS trace on a map\n",
    "\"\"\"\n",
    "from ipyleaflet import Map\n",
    "\n",
    "points = [p.point for p in gpxFile.get_points_data(distance_2d=True)]\n",
    "mean_lat = mean(p.latitude for p in points)\n",
    "mean_lng = mean(p.longitude for p in points)\n",
    "\n",
    "# create the map\n",
    "m = Map(center=(mean_lat, mean_lng), zoom=12, basemap=basemaps.Stamen.Terrain)\n",
    "\n",
    "# show trace\n",
    "line = Polyline(locations=[[[p.latitude, p.longitude] for p in points],],\n",
    "                color = \"red\", fill=False)\n",
    "m.add_layer(line)\n",
    "\n",
    "# add markers\n",
    "waypoints = [\n",
    "    Marker(location=(point.latitude, point.longitude), title=point.name,\n",
    "           popup=HTML(value=point.name), draggable=False)\n",
    "    for point in gpxFile.waypoints\n",
    "]\n",
    "waypoints_layer = LayerGroup(layers=waypoints)\n",
    "#m.add_layer(waypoints_layer)\n",
    "\n",
    "# add a checkbox to show / hide waypoints\n",
    "waypoints_checkbox = Checkbox(value=True, description='Show Waypoints')\n",
    "\n",
    "def update_visible(change):\n",
    "    for p in waypoints:\n",
    "        p.visible = change['new']\n",
    "\n",
    "waypoints_checkbox.observe(update_visible, 'value')\n",
    "waypoint_control = WidgetControl(widget=waypoints_checkbox, position='bottomright')\n",
    "m.add_control(waypoint_control)\n",
    "\n",
    "# enable full screen mode\n",
    "m.add_control(FullScreenControl())\n",
    "\n",
    "# add measure control\n",
    "measure = MeasureControl(\n",
    "    position='bottomleft',\n",
    "    active_color = 'orange',\n",
    "    primary_length_unit = 'kilometers'\n",
    ")\n",
    "m.add_control(measure)\n",
    "\n",
    "#return m\n",
    "m"
   ]
  },
  {
   "cell_type": "code",
   "execution_count": null,
   "metadata": {},
   "outputs": [],
   "source": [
    "# https://www.youtube.com/watch?v=jAKUPm-Cul0\n",
    "#j = 90\n",
    "#gpxFile.get_points_data(distance_2d=True)[j]#.tracks().segments[j]"
   ]
  },
  {
   "cell_type": "code",
   "execution_count": 26,
   "metadata": {},
   "outputs": [
    {
     "data": {
      "application/vnd.jupyter.widget-view+json": {
       "model_id": "3714d4f32e6e4c17947e46d0134b0f4d",
       "version_major": 2,
       "version_minor": 0
      },
      "text/plain": [
       "Figure(axes=[Axis(label='Distance (km)', scale=LinearScale(allow_padding=False)), Axis(label='Elevation (m)', …"
      ]
     },
     "metadata": {},
     "output_type": "display_data"
    }
   ],
   "source": [
    "#def plot_elevation(gpx):\n",
    "\"\"\"\n",
    "Return an elevation graph for the given gpx trace\n",
    "\"\"\"\n",
    "points = gpxFile.get_points_data(distance_2d=True)\n",
    "px = [p.distance_from_start / 1000 for p in points]\n",
    "py = [p.point.elevation for p in points]\n",
    "\n",
    "x_scale, y_scale = LinearScale(), LinearScale()\n",
    "x_scale.allow_padding = False\n",
    "x_ax = Axis(label='Distance (km)', scale=x_scale)\n",
    "y_ax = Axis(label='Elevation (m)', scale=y_scale, orientation='vertical')\n",
    "\n",
    "lines = Lines(x=px, y=py, scales={'x': x_scale, 'y': y_scale})\n",
    "\n",
    "elevation = Figure(title='Elevation Chart', axes=[x_ax, y_ax], marks=[lines])\n",
    "\n",
    "\n",
    "elevation.layout.width = 'auto'\n",
    "elevation.layout.height = 'auto'\n",
    "elevation.layout.min_height = '300px'\n",
    "\n",
    "#elevation.interaction = IndexSelector(scale=x_scale)\n",
    "\n",
    "#return elevation\n",
    "elevation"
   ]
  },
  {
   "cell_type": "code",
   "execution_count": null,
   "metadata": {},
   "outputs": [],
   "source": []
  }
 ],
 "metadata": {
  "kernelspec": {
   "display_name": "Python 3 (ipykernel)",
   "language": "python",
   "name": "python3"
  },
  "language_info": {
   "codemirror_mode": {
    "name": "ipython",
    "version": 3
   },
   "file_extension": ".py",
   "mimetype": "text/x-python",
   "name": "python",
   "nbconvert_exporter": "python",
   "pygments_lexer": "ipython3",
   "version": "3.9.12"
  }
 },
 "nbformat": 4,
 "nbformat_minor": 2
}
