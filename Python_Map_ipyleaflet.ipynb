{
 "cells": [
  {
   "cell_type": "code",
   "execution_count": 79,
   "metadata": {},
   "outputs": [
    {
     "data": {
      "text/html": [
       "<style>.container { width:100% !important; }</style>"
      ],
      "text/plain": [
       "<IPython.core.display.HTML object>"
      ]
     },
     "metadata": {},
     "output_type": "display_data"
    },
    {
     "data": {
      "text/html": [
       "<style>.output_result { max-width:100% !important; }</style>"
      ],
      "text/plain": [
       "<IPython.core.display.HTML object>"
      ]
     },
     "metadata": {},
     "output_type": "display_data"
    },
    {
     "data": {
      "text/html": [
       "<style>.prompt { display:none !important; }</style>"
      ],
      "text/plain": [
       "<IPython.core.display.HTML object>"
      ]
     },
     "metadata": {},
     "output_type": "display_data"
    }
   ],
   "source": [
    "from IPython.display import display, HTML\n",
    "display(HTML(\"<style>.container { width:100% !important; }</style>\"))\n",
    "display(HTML(\"<style>.output_result { max-width:100% !important; }</style>\"))\n",
    "display(HTML(\"<style>.prompt { display:none !important; }</style>\"))\n",
    "\n",
    "from statistics import mean\n",
    "import ipyleaflet\n",
    "import gpxpy\n",
    "import pandas as pd\n",
    "from ipyleaflet import basemaps, FullScreenControl, LayerGroup, Map, \\\n",
    "    MeasureControl, Polyline, Marker, CircleMarker, WidgetControl\n",
    "from ipywidgets import Button, HTML, HBox, VBox, Checkbox, FileUpload, \\\n",
    "    Label, Output, IntSlider, Layout, Image, link\n",
    "import numpy as np"
   ]
  },
  {
   "cell_type": "code",
   "execution_count": 45,
   "metadata": {},
   "outputs": [],
   "source": [
    "gpx_file_path = 'Gran_Fondo_Porto_SantElpidio_2022.gpx'\n",
    "\n",
    "with open(gpx_file_path) as fh:\n",
    "    gpxFile = gpxpy.parse(fh)"
   ]
  },
  {
   "cell_type": "code",
   "execution_count": 46,
   "metadata": {},
   "outputs": [
    {
     "data": {
      "application/vnd.jupyter.widget-view+json": {
       "model_id": "02b142ffc4934c999e042dd1fc98f692",
       "version_major": 2,
       "version_minor": 0
      },
      "text/plain": [
       "Map(center=[0.0, 0.0], controls=(ZoomControl(options=['position', 'zoom_in_text', 'zoom_in_title', 'zoom_out_t…"
      ]
     },
     "metadata": {},
     "output_type": "display_data"
    }
   ],
   "source": [
    "# create map\n",
    "basic_map = ipyleaflet.Map(zoom = 1)\n",
    "# basic_map = Map(zoom=4)\n",
    "\n",
    "# display map\n",
    "basic_map\n",
    "# display(basic_map)"
   ]
  },
  {
   "cell_type": "code",
   "execution_count": 47,
   "metadata": {},
   "outputs": [],
   "source": [
    "def plot_map(gpx):\n",
    "    \"\"\"\n",
    "    Plot the GPS trace on a map\n",
    "    \"\"\"\n",
    "    points = [p.point for p in gpx.get_points_data(distance_2d=True)]\n",
    "    mean_lat = mean(p.latitude for p in points)\n",
    "    mean_lng = mean(p.longitude for p in points)\n",
    "\n",
    "    # create the map\n",
    "    m = Map(center=(mean_lat, mean_lng), zoom=12, basemap=basemaps.Stamen.Terrain)\n",
    "\n",
    "    # show trace\n",
    "    line = Polyline(locations=[[[p.latitude, p.longitude] for p in points],],\n",
    "                    color = \"red\", fill=False)\n",
    "    m.add_layer(line)\n",
    "\n",
    "    # add markers\n",
    "    waypoints = [\n",
    "        Marker(location=(point.latitude, point.longitude), title=point.name,\n",
    "               popup=HTML(value=point.name), draggable=False)\n",
    "        for point in gpx.waypoints\n",
    "    ]\n",
    "    waypoints_layer = LayerGroup(layers=waypoints)\n",
    "    m.add_layer(waypoints_layer)\n",
    "    \n",
    "    # add a checkbox to show / hide waypoints\n",
    "    waypoints_checkbox = Checkbox(value=True, description='Show Waypoints')\n",
    "    \n",
    "    def update_visible(change):\n",
    "        for p in waypoints:\n",
    "            p.visible = change['new']\n",
    "    \n",
    "    waypoints_checkbox.observe(update_visible, 'value')\n",
    "    waypoint_control = WidgetControl(widget=waypoints_checkbox, position='bottomright')\n",
    "    m.add_control(waypoint_control)\n",
    "    \n",
    "    # enable full screen mode\n",
    "    m.add_control(FullScreenControl())\n",
    "        \n",
    "    # add measure control\n",
    "    measure = MeasureControl(\n",
    "        position='bottomleft',\n",
    "        active_color = 'orange',\n",
    "        primary_length_unit = 'kilometers'\n",
    "    )\n",
    "    m.add_control(measure)\n",
    "        \n",
    "    return m"
   ]
  },
  {
   "cell_type": "code",
   "execution_count": 49,
   "metadata": {},
   "outputs": [
    {
     "data": {
      "application/vnd.jupyter.widget-view+json": {
       "model_id": "7d483e79a521437988bcdb85ca2b7f4d",
       "version_major": 2,
       "version_minor": 0
      },
      "text/plain": [
       "Map(center=[43.14745246278689, 13.682265709631148], controls=(ZoomControl(options=['position', 'zoom_in_text',…"
      ]
     },
     "metadata": {},
     "output_type": "display_data"
    }
   ],
   "source": [
    "plot_map(gpxFile)"
   ]
  },
  {
   "cell_type": "code",
   "execution_count": 62,
   "metadata": {},
   "outputs": [
    {
     "name": "stdout",
     "output_type": "stream",
     "text": [
      "PointData(point=GPXTrackPoint(43.2387, 13.75904, elevation=19.0, time=datetime.datetime(2022, 4, 18, 0, 0, tzinfo=SimpleTZ(\"Z\"))), distance_from_start=0, track_no=0, segment_no=0, point_no=0)\n",
      "PointData(point=GPXTrackPoint(43.23864, 13.75896, elevation=19.0, time=datetime.datetime(2022, 4, 18, 0, 0, 2, tzinfo=SimpleTZ(\"Z\"))), distance_from_start=9.311409201481228, track_no=0, segment_no=0, point_no=1)\n",
      "PointData(point=GPXTrackPoint(43.2386, 13.75896, elevation=20.0, time=datetime.datetime(2022, 4, 18, 0, 0, 2, tzinfo=SimpleTZ(\"Z\"))), distance_from_start=13.764188833043598, track_no=0, segment_no=0, point_no=2)\n",
      "PointData(point=GPXTrackPoint(43.23855, 13.75898, elevation=19.0, time=datetime.datetime(2022, 4, 18, 0, 0, 4, tzinfo=SimpleTZ(\"Z\"))), distance_from_start=19.561668470737022, track_no=0, segment_no=0, point_no=3)\n",
      "PointData(point=GPXTrackPoint(43.2385, 13.75907, elevation=19.0, time=datetime.datetime(2022, 4, 18, 0, 0, 5, tzinfo=SimpleTZ(\"Z\"))), distance_from_start=28.740545625355956, track_no=0, segment_no=0, point_no=4)\n",
      "PointData(point=GPXTrackPoint(43.23851, 13.75919, elevation=19.0, time=datetime.datetime(2022, 4, 18, 0, 0, 7, tzinfo=SimpleTZ(\"Z\"))), distance_from_start=38.53566889244981, track_no=0, segment_no=0, point_no=5)\n",
      "PointData(point=GPXTrackPoint(43.23858, 13.75925, elevation=19.0, time=datetime.datetime(2022, 4, 18, 0, 0, 9, tzinfo=SimpleTZ(\"Z\"))), distance_from_start=47.72246360437532, track_no=0, segment_no=0, point_no=6)\n",
      "PointData(point=GPXTrackPoint(43.23864, 13.75925, elevation=19.0, time=datetime.datetime(2022, 4, 18, 0, 0, 10, tzinfo=SimpleTZ(\"Z\"))), distance_from_start=54.401633051718875, track_no=0, segment_no=0, point_no=7)\n",
      "PointData(point=GPXTrackPoint(43.23889, 13.75956, elevation=19.0, time=datetime.datetime(2022, 4, 18, 0, 0, 17, tzinfo=SimpleTZ(\"Z\"))), distance_from_start=91.90523091263475, track_no=0, segment_no=0, point_no=8)\n",
      "PointData(point=GPXTrackPoint(43.24071, 13.76271, elevation=15.0, time=datetime.datetime(2022, 4, 18, 0, 1, 15, tzinfo=SimpleTZ(\"Z\"))), distance_from_start=417.94276228192405, track_no=0, segment_no=0, point_no=9)\n",
      "PointData(point=GPXTrackPoint(43.24096, 13.7632, elevation=14.0, time=datetime.datetime(2022, 4, 18, 0, 1, 24, tzinfo=SimpleTZ(\"Z\"))), distance_from_start=466.4551639784206, track_no=0, segment_no=0, point_no=10)\n",
      "PointData(point=GPXTrackPoint(43.24113, 13.76384, elevation=14.0, time=datetime.datetime(2022, 4, 18, 0, 1, 34, tzinfo=SimpleTZ(\"Z\"))), distance_from_start=521.6976822392783, track_no=0, segment_no=0, point_no=11)\n",
      "PointData(point=GPXTrackPoint(43.24132, 13.76493, elevation=13.0, time=datetime.datetime(2022, 4, 18, 0, 1, 50, tzinfo=SimpleTZ(\"Z\"))), distance_from_start=612.5848169800493, track_no=0, segment_no=0, point_no=12)\n",
      "PointData(point=GPXTrackPoint(43.2415, 13.76601, elevation=12.0, time=datetime.datetime(2022, 4, 18, 0, 2, 6, tzinfo=SimpleTZ(\"Z\"))), distance_from_start=702.4284203328559, track_no=0, segment_no=0, point_no=13)\n",
      "PointData(point=GPXTrackPoint(43.24165, 13.76696, elevation=7.0, time=datetime.datetime(2022, 4, 18, 0, 2, 21, tzinfo=SimpleTZ(\"Z\"))), distance_from_start=781.2556243172589, track_no=0, segment_no=0, point_no=14)\n",
      "PointData(point=GPXTrackPoint(43.2418, 13.76757, elevation=6.0, time=datetime.datetime(2022, 4, 18, 0, 2, 30, tzinfo=SimpleTZ(\"Z\"))), distance_from_start=833.4644933671318, track_no=0, segment_no=0, point_no=15)\n",
      "PointData(point=GPXTrackPoint(43.24037, 13.76834, elevation=4.0, time=datetime.datetime(2022, 4, 18, 0, 3, 1, tzinfo=SimpleTZ(\"Z\"))), distance_from_start=1004.4603374551693, track_no=0, segment_no=0, point_no=16)\n",
      "PointData(point=GPXTrackPoint(43.2403, 13.76841, elevation=4.0, time=datetime.datetime(2022, 4, 18, 0, 3, 3, tzinfo=SimpleTZ(\"Z\"))), distance_from_start=1014.1011432506194, track_no=0, segment_no=0, point_no=17)\n",
      "PointData(point=GPXTrackPoint(43.2361, 13.77072, elevation=3.0, time=datetime.datetime(2022, 4, 18, 0, 4, 33, tzinfo=SimpleTZ(\"Z\"))), distance_from_start=1517.7799869307694, track_no=0, segment_no=0, point_no=18)\n",
      "PointData(point=GPXTrackPoint(43.23582, 13.77083, elevation=3.0, time=datetime.datetime(2022, 4, 18, 0, 4, 39, tzinfo=SimpleTZ(\"Z\"))), distance_from_start=1550.200980260108, track_no=0, segment_no=0, point_no=19)\n",
      "PointData(point=GPXTrackPoint(43.23556, 13.77089, elevation=3.0, time=datetime.datetime(2022, 4, 18, 0, 4, 44, tzinfo=SimpleTZ(\"Z\"))), distance_from_start=1579.5502522141853, track_no=0, segment_no=0, point_no=20)\n",
      "PointData(point=GPXTrackPoint(43.23524, 13.77091, elevation=2.0, time=datetime.datetime(2022, 4, 18, 0, 4, 51, tzinfo=SimpleTZ(\"Z\"))), distance_from_start=1615.2093990929832, track_no=0, segment_no=0, point_no=21)\n",
      "PointData(point=GPXTrackPoint(43.23523, 13.77087, elevation=2.0, time=datetime.datetime(2022, 4, 18, 0, 4, 51, tzinfo=SimpleTZ(\"Z\"))), distance_from_start=1618.639142509221, track_no=0, segment_no=0, point_no=22)\n",
      "PointData(point=GPXTrackPoint(43.23519, 13.77081, elevation=1.0, time=datetime.datetime(2022, 4, 18, 0, 4, 53, tzinfo=SimpleTZ(\"Z\"))), distance_from_start=1625.235060624248, track_no=0, segment_no=0, point_no=23)\n",
      "PointData(point=GPXTrackPoint(43.23513, 13.77077, elevation=1.0, time=datetime.datetime(2022, 4, 18, 0, 4, 54, tzinfo=SimpleTZ(\"Z\"))), distance_from_start=1632.6603738200317, track_no=0, segment_no=0, point_no=24)\n",
      "PointData(point=GPXTrackPoint(43.23507, 13.77076, elevation=1.0, time=datetime.datetime(2022, 4, 18, 0, 4, 55, tzinfo=SimpleTZ(\"Z\"))), distance_from_start=1639.3886019688755, track_no=0, segment_no=0, point_no=25)\n",
      "PointData(point=GPXTrackPoint(43.235, 13.77077, elevation=1.0, time=datetime.datetime(2022, 4, 18, 0, 4, 57, tzinfo=SimpleTZ(\"Z\"))), distance_from_start=1647.2230574878347, track_no=0, segment_no=0, point_no=26)\n",
      "PointData(point=GPXTrackPoint(43.23497, 13.7708, elevation=1.0, time=datetime.datetime(2022, 4, 18, 0, 4, 57, tzinfo=SimpleTZ(\"Z\"))), distance_from_start=1651.3549567127227, track_no=0, segment_no=0, point_no=27)\n",
      "PointData(point=GPXTrackPoint(43.2349, 13.77091, elevation=1.0, time=datetime.datetime(2022, 4, 18, 0, 4, 59, tzinfo=SimpleTZ(\"Z\"))), distance_from_start=1663.2001699978327, track_no=0, segment_no=0, point_no=28)\n",
      "PointData(point=GPXTrackPoint(43.23489, 13.77108, elevation=2.0, time=datetime.datetime(2022, 4, 18, 0, 5, 2, tzinfo=SimpleTZ(\"Z\"))), distance_from_start=1677.0323764775778, track_no=0, segment_no=0, point_no=29)\n",
      "PointData(point=GPXTrackPoint(43.2349, 13.77112, elevation=2.0, time=datetime.datetime(2022, 4, 18, 0, 5, 2, tzinfo=SimpleTZ(\"Z\"))), distance_from_start=1680.462136510449, track_no=0, segment_no=0, point_no=30)\n",
      "PointData(point=GPXTrackPoint(43.23467, 13.77136, elevation=3.0, time=datetime.datetime(2022, 4, 18, 0, 5, 8, tzinfo=SimpleTZ(\"Z\"))), distance_from_start=1712.6243352977335, track_no=0, segment_no=0, point_no=31)\n",
      "PointData(point=GPXTrackPoint(43.23433, 13.77161, elevation=3.0, time=datetime.datetime(2022, 4, 18, 0, 5, 16, tzinfo=SimpleTZ(\"Z\"))), distance_from_start=1755.5617547325346, track_no=0, segment_no=0, point_no=32)\n",
      "PointData(point=GPXTrackPoint(43.23413, 13.77171, elevation=3.0, time=datetime.datetime(2022, 4, 18, 0, 5, 20, tzinfo=SimpleTZ(\"Z\"))), distance_from_start=1779.256862709572, track_no=0, segment_no=0, point_no=33)\n",
      "PointData(point=GPXTrackPoint(43.2334, 13.77197, elevation=3.0, time=datetime.datetime(2022, 4, 18, 0, 5, 35, tzinfo=SimpleTZ(\"Z\"))), distance_from_start=1863.2114654033421, track_no=0, segment_no=0, point_no=34)\n",
      "PointData(point=GPXTrackPoint(43.23201, 13.77248, elevation=3.0, time=datetime.datetime(2022, 4, 18, 0, 6, 4, tzinfo=SimpleTZ(\"Z\"))), distance_from_start=2023.3789327451134, track_no=0, segment_no=0, point_no=35)\n",
      "PointData(point=GPXTrackPoint(43.23162, 13.77267, elevation=4.0, time=datetime.datetime(2022, 4, 18, 0, 6, 13, tzinfo=SimpleTZ(\"Z\"))), distance_from_start=2069.4473826493545, track_no=0, segment_no=0, point_no=36)\n",
      "PointData(point=GPXTrackPoint(43.23126, 13.77296, elevation=4.0, time=datetime.datetime(2022, 4, 18, 0, 6, 21, tzinfo=SimpleTZ(\"Z\"))), distance_from_start=2115.915043178718, track_no=0, segment_no=0, point_no=37)\n",
      "PointData(point=GPXTrackPoint(43.2307, 13.77359, elevation=4.0, time=datetime.datetime(2022, 4, 18, 0, 6, 35, tzinfo=SimpleTZ(\"Z\"))), distance_from_start=2196.5197735082575, track_no=0, segment_no=0, point_no=38)\n",
      "PointData(point=GPXTrackPoint(43.23057, 13.77376, elevation=4.0, time=datetime.datetime(2022, 4, 18, 0, 6, 39, tzinfo=SimpleTZ(\"Z\"))), distance_from_start=2216.5083446122712, track_no=0, segment_no=0, point_no=39)\n",
      "PointData(point=GPXTrackPoint(43.2304, 13.7739, elevation=4.0, time=datetime.datetime(2022, 4, 18, 0, 6, 43, tzinfo=SimpleTZ(\"Z\"))), distance_from_start=2238.577968605892, track_no=0, segment_no=0, point_no=40)\n",
      "PointData(point=GPXTrackPoint(43.22958, 13.77489, elevation=4.0, time=datetime.datetime(2022, 4, 18, 0, 7, 5, tzinfo=SimpleTZ(\"Z\"))), distance_from_start=2360.151670010084, track_no=0, segment_no=0, point_no=41)\n",
      "PointData(point=GPXTrackPoint(43.2291, 13.77544, elevation=3.0, time=datetime.datetime(2022, 4, 18, 0, 7, 17, tzinfo=SimpleTZ(\"Z\"))), distance_from_start=2429.759181247444, track_no=0, segment_no=0, point_no=42)\n",
      "PointData(point=GPXTrackPoint(43.22888, 13.77565, elevation=2.0, time=datetime.datetime(2022, 4, 18, 0, 7, 23, tzinfo=SimpleTZ(\"Z\"))), distance_from_start=2459.590384203346, track_no=0, segment_no=0, point_no=43)\n",
      "PointData(point=GPXTrackPoint(43.22862, 13.77583, elevation=2.0, time=datetime.datetime(2022, 4, 18, 0, 7, 29, tzinfo=SimpleTZ(\"Z\"))), distance_from_start=2492.0073106189616, track_no=0, segment_no=0, point_no=44)\n",
      "PointData(point=GPXTrackPoint(43.22837, 13.77597, elevation=1.0, time=datetime.datetime(2022, 4, 18, 0, 7, 34, tzinfo=SimpleTZ(\"Z\"))), distance_from_start=2522.0647401106653, track_no=0, segment_no=0, point_no=45)\n",
      "PointData(point=GPXTrackPoint(43.22817, 13.77605, elevation=2.0, time=datetime.datetime(2022, 4, 18, 0, 7, 38, tzinfo=SimpleTZ(\"Z\"))), distance_from_start=2545.2549678601977, track_no=0, segment_no=0, point_no=46)\n",
      "PointData(point=GPXTrackPoint(43.22724, 13.77634, elevation=3.0, time=datetime.datetime(2022, 4, 18, 0, 7, 57, tzinfo=SimpleTZ(\"Z\"))), distance_from_start=2651.4207599140145, track_no=0, segment_no=0, point_no=47)\n",
      "PointData(point=GPXTrackPoint(43.22403, 13.77736, elevation=3.0, time=datetime.datetime(2022, 4, 18, 0, 9, 3, tzinfo=SimpleTZ(\"Z\"))), distance_from_start=3018.21008878585, track_no=0, segment_no=0, point_no=48)\n",
      "PointData(point=GPXTrackPoint(43.2239, 13.77744, elevation=3.0, time=datetime.datetime(2022, 4, 18, 0, 9, 6, tzinfo=SimpleTZ(\"Z\"))), distance_from_start=3034.069997098554, track_no=0, segment_no=0, point_no=49)\n",
      "PointData(point=GPXTrackPoint(43.2232, 13.77765, elevation=3.0, time=datetime.datetime(2022, 4, 18, 0, 9, 20, tzinfo=SimpleTZ(\"Z\"))), distance_from_start=3113.8338658725033, track_no=0, segment_no=0, point_no=50)\n",
      "PointData(point=GPXTrackPoint(43.22146, 13.7782, elevation=2.0, time=datetime.datetime(2022, 4, 18, 0, 9, 56, tzinfo=SimpleTZ(\"Z\"))), distance_from_start=3312.601791138332, track_no=0, segment_no=0, point_no=51)\n",
      "PointData(point=GPXTrackPoint(43.21867, 13.77906, elevation=2.0, time=datetime.datetime(2022, 4, 18, 0, 10, 54, tzinfo=SimpleTZ(\"Z\"))), distance_from_start=3630.9225836602086, track_no=0, segment_no=0, point_no=52)\n",
      "PointData(point=GPXTrackPoint(43.21697, 13.7796, elevation=2.0, time=datetime.datetime(2022, 4, 18, 0, 11, 29, tzinfo=SimpleTZ(\"Z\"))), distance_from_start=3825.1701082933405, track_no=0, segment_no=0, point_no=53)\n",
      "PointData(point=GPXTrackPoint(43.21195, 13.78104, elevation=4.0, time=datetime.datetime(2022, 4, 18, 0, 13, 11, tzinfo=SimpleTZ(\"Z\"))), distance_from_start=4396.075994862559, track_no=0, segment_no=0, point_no=54)\n",
      "PointData(point=GPXTrackPoint(43.21186, 13.78104, elevation=4.0, time=datetime.datetime(2022, 4, 18, 0, 13, 13, tzinfo=SimpleTZ(\"Z\"))), distance_from_start=4406.09474903397, track_no=0, segment_no=0, point_no=55)\n",
      "PointData(point=GPXTrackPoint(43.21103, 13.78133, elevation=5.0, time=datetime.datetime(2022, 4, 18, 0, 13, 30, tzinfo=SimpleTZ(\"Z\"))), distance_from_start=4501.438718806758, track_no=0, segment_no=0, point_no=56)\n",
      "PointData(point=GPXTrackPoint(43.2103, 13.7816, elevation=3.0, time=datetime.datetime(2022, 4, 18, 0, 13, 45, tzinfo=SimpleTZ(\"Z\"))), distance_from_start=4585.602852875259, track_no=0, segment_no=0, point_no=57)\n",
      "PointData(point=GPXTrackPoint(43.20964, 13.78185, elevation=4.0, time=datetime.datetime(2022, 4, 18, 0, 13, 59, tzinfo=SimpleTZ(\"Z\"))), distance_from_start=4661.822301735149, track_no=0, segment_no=0, point_no=58)\n",
      "PointData(point=GPXTrackPoint(43.20932, 13.782, elevation=6.0, time=datetime.datetime(2022, 4, 18, 0, 14, 6, tzinfo=SimpleTZ(\"Z\"))), distance_from_start=4699.466192088347, track_no=0, segment_no=0, point_no=59)\n",
      "PointData(point=GPXTrackPoint(43.20883, 13.78217, elevation=6.0, time=datetime.datetime(2022, 4, 18, 0, 14, 16, tzinfo=SimpleTZ(\"Z\"))), distance_from_start=4755.729674728869, track_no=0, segment_no=0, point_no=60)\n",
      "PointData(point=GPXTrackPoint(43.20722, 13.78279, elevation=4.0, time=datetime.datetime(2022, 4, 18, 0, 14, 50, tzinfo=SimpleTZ(\"Z\"))), distance_from_start=4941.8803624551265, track_no=0, segment_no=0, point_no=61)\n",
      "PointData(point=GPXTrackPoint(43.20626, 13.78314, elevation=3.0, time=datetime.datetime(2022, 4, 18, 0, 15, 9, tzinfo=SimpleTZ(\"Z\"))), distance_from_start=5052.456123573777, track_no=0, segment_no=0, point_no=62)\n",
      "PointData(point=GPXTrackPoint(43.20621, 13.78313, elevation=3.0, time=datetime.datetime(2022, 4, 18, 0, 15, 10, tzinfo=SimpleTZ(\"Z\"))), distance_from_start=5058.080929799768, track_no=0, segment_no=0, point_no=63)\n",
      "PointData(point=GPXTrackPoint(43.20528, 13.78347, elevation=3.0, time=datetime.datetime(2022, 4, 18, 0, 15, 30, tzinfo=SimpleTZ(\"Z\"))), distance_from_start=5165.220874390105, track_no=0, segment_no=0, point_no=64)\n",
      "PointData(point=GPXTrackPoint(43.20474, 13.78364, elevation=3.0, time=datetime.datetime(2022, 4, 18, 0, 15, 41, tzinfo=SimpleTZ(\"Z\"))), distance_from_start=5226.895784106929, track_no=0, segment_no=0, point_no=65)\n",
      "PointData(point=GPXTrackPoint(43.20387, 13.78394, elevation=4.0, time=datetime.datetime(2022, 4, 18, 0, 15, 59, tzinfo=SimpleTZ(\"Z\"))), distance_from_start=5326.756224143321, track_no=0, segment_no=0, point_no=66)\n",
      "PointData(point=GPXTrackPoint(43.20298, 13.78422, elevation=5.0, time=datetime.datetime(2022, 4, 18, 0, 16, 17, tzinfo=SimpleTZ(\"Z\"))), distance_from_start=5428.402399174407, track_no=0, segment_no=0, point_no=67)\n",
      "PointData(point=GPXTrackPoint(43.20294, 13.78426, elevation=5.0, time=datetime.datetime(2022, 4, 18, 0, 16, 18, tzinfo=SimpleTZ(\"Z\"))), distance_from_start=5433.912602059928, track_no=0, segment_no=0, point_no=68)\n",
      "PointData(point=GPXTrackPoint(43.20276, 13.78432, elevation=5.0, time=datetime.datetime(2022, 4, 18, 0, 16, 22, tzinfo=SimpleTZ(\"Z\"))), distance_from_start=5454.533121733195, track_no=0, segment_no=0, point_no=69)\n",
      "PointData(point=GPXTrackPoint(43.20148, 13.78472, elevation=5.0, time=datetime.datetime(2022, 4, 18, 0, 16, 48, tzinfo=SimpleTZ(\"Z\"))), distance_from_start=5600.672301034126, track_no=0, segment_no=0, point_no=70)\n",
      "PointData(point=GPXTrackPoint(43.20065, 13.78489, elevation=4.0, time=datetime.datetime(2022, 4, 18, 0, 17, 5, tzinfo=SimpleTZ(\"Z\"))), distance_from_start=5694.091641305067, track_no=0, segment_no=0, point_no=71)\n",
      "PointData(point=GPXTrackPoint(43.19944, 13.78508, elevation=4.0, time=datetime.datetime(2022, 4, 18, 0, 17, 29, tzinfo=SimpleTZ(\"Z\"))), distance_from_start=5829.667800460284, track_no=0, segment_no=0, point_no=72)\n",
      "PointData(point=GPXTrackPoint(43.1984, 13.78528, elevation=5.0, time=datetime.datetime(2022, 4, 18, 0, 17, 50, tzinfo=SimpleTZ(\"Z\"))), distance_from_start=5946.572184610582, track_no=0, segment_no=0, point_no=73)\n"
     ]
    },
    {
     "name": "stdout",
     "output_type": "stream",
     "text": [
      "PointData(point=GPXTrackPoint(43.19822, 13.78535, elevation=5.0, time=datetime.datetime(2022, 4, 18, 0, 17, 54, tzinfo=SimpleTZ(\"Z\"))), distance_from_start=5967.399341021157, track_no=0, segment_no=0, point_no=74)\n",
      "PointData(point=GPXTrackPoint(43.19756, 13.78567, elevation=5.0, time=datetime.datetime(2022, 4, 18, 0, 18, 8, tzinfo=SimpleTZ(\"Z\"))), distance_from_start=6045.324513358796, track_no=0, segment_no=0, point_no=75)\n",
      "PointData(point=GPXTrackPoint(43.19652, 13.7862, elevation=5.0, time=datetime.datetime(2022, 4, 18, 0, 18, 30, tzinfo=SimpleTZ(\"Z\"))), distance_from_start=6168.828256211604, track_no=0, segment_no=0, point_no=76)\n",
      "PointData(point=GPXTrackPoint(43.196, 13.78644, elevation=4.0, time=datetime.datetime(2022, 4, 18, 0, 18, 41, tzinfo=SimpleTZ(\"Z\"))), distance_from_start=6229.903244173913, track_no=0, segment_no=0, point_no=77)\n",
      "PointData(point=GPXTrackPoint(43.19578, 13.78657, elevation=4.0, time=datetime.datetime(2022, 4, 18, 0, 18, 46, tzinfo=SimpleTZ(\"Z\"))), distance_from_start=6256.569275112988, track_no=0, segment_no=0, point_no=78)\n",
      "PointData(point=GPXTrackPoint(43.19568, 13.7866, elevation=4.0, time=datetime.datetime(2022, 4, 18, 0, 18, 48, tzinfo=SimpleTZ(\"Z\"))), distance_from_start=6267.964348104096, track_no=0, segment_no=0, point_no=79)\n",
      "PointData(point=GPXTrackPoint(43.1956, 13.78665, elevation=3.0, time=datetime.datetime(2022, 4, 18, 0, 18, 50, tzinfo=SimpleTZ(\"Z\"))), distance_from_start=6277.750768486947, track_no=0, segment_no=0, point_no=80)\n",
      "PointData(point=GPXTrackPoint(43.19453, 13.78723, elevation=3.0, time=datetime.datetime(2022, 4, 18, 0, 19, 13, tzinfo=SimpleTZ(\"Z\"))), distance_from_start=6405.825931029529, track_no=0, segment_no=0, point_no=81)\n",
      "PointData(point=GPXTrackPoint(43.19337, 13.78788, elevation=4.0, time=datetime.datetime(2022, 4, 18, 0, 19, 38, tzinfo=SimpleTZ(\"Z\"))), distance_from_start=6545.316106576319, track_no=0, segment_no=0, point_no=82)\n",
      "PointData(point=GPXTrackPoint(43.19037, 13.78931, elevation=5.0, time=datetime.datetime(2022, 4, 18, 0, 20, 42, tzinfo=SimpleTZ(\"Z\"))), distance_from_start=6898.867110449319, track_no=0, segment_no=0, point_no=83)\n",
      "PointData(point=GPXTrackPoint(43.18945, 13.78972, elevation=5.0, time=datetime.datetime(2022, 4, 18, 0, 21, 1, tzinfo=SimpleTZ(\"Z\"))), distance_from_start=7006.551583258092, track_no=0, segment_no=0, point_no=84)\n",
      "PointData(point=GPXTrackPoint(43.18718, 13.79067, elevation=6.0, time=datetime.datetime(2022, 4, 18, 0, 21, 49, tzinfo=SimpleTZ(\"Z\"))), distance_from_start=7270.749246777525, track_no=0, segment_no=0, point_no=85)\n",
      "PointData(point=GPXTrackPoint(43.18616, 13.79107, elevation=6.0, time=datetime.datetime(2022, 4, 18, 0, 22, 10, tzinfo=SimpleTZ(\"Z\"))), distance_from_start=7388.845628867709, track_no=0, segment_no=0, point_no=86)\n",
      "PointData(point=GPXTrackPoint(43.18508, 13.79144, elevation=8.0, time=datetime.datetime(2022, 4, 18, 0, 22, 32, tzinfo=SimpleTZ(\"Z\"))), distance_from_start=7512.764953482481, track_no=0, segment_no=0, point_no=87)\n",
      "PointData(point=GPXTrackPoint(43.18288, 13.79214, elevation=6.0, time=datetime.datetime(2022, 4, 18, 0, 23, 18, tzinfo=SimpleTZ(\"Z\"))), distance_from_start=7764.172815979306, track_no=0, segment_no=0, point_no=88)\n"
     ]
    }
   ],
   "source": [
    "for j in range(89):\n",
    "    print(gpxFile.get_points_data(distance_2d=True)[j])"
   ]
  },
  {
   "cell_type": "code",
   "execution_count": 76,
   "metadata": {},
   "outputs": [
    {
     "ename": "AttributeError",
     "evalue": "'PointData' object has no attribute 'tracks'",
     "output_type": "error",
     "traceback": [
      "\u001b[0;31m---------------------------------------------------------------------------\u001b[0m",
      "\u001b[0;31mAttributeError\u001b[0m                            Traceback (most recent call last)",
      "Input \u001b[0;32mIn [76]\u001b[0m, in \u001b[0;36m<cell line: 2>\u001b[0;34m()\u001b[0m\n\u001b[1;32m      1\u001b[0m j \u001b[38;5;241m=\u001b[39m \u001b[38;5;241m0\u001b[39m\n\u001b[0;32m----> 2\u001b[0m \u001b[43mgpxFile\u001b[49m\u001b[38;5;241;43m.\u001b[39;49m\u001b[43mget_points_data\u001b[49m\u001b[43m(\u001b[49m\u001b[43mdistance_2d\u001b[49m\u001b[38;5;241;43m=\u001b[39;49m\u001b[38;5;28;43;01mTrue\u001b[39;49;00m\u001b[43m)\u001b[49m\u001b[43m[\u001b[49m\u001b[43mj\u001b[49m\u001b[43m]\u001b[49m\u001b[38;5;241;43m.\u001b[39;49m\u001b[43mtracks\u001b[49m()\u001b[38;5;241m.\u001b[39msegments[j]\n\u001b[1;32m      3\u001b[0m coords \u001b[38;5;241m=\u001b[39m pd\u001b[38;5;241m.\u001b[39mDataFrame([\n\u001b[1;32m      4\u001b[0m     {\u001b[38;5;124m'\u001b[39m\u001b[38;5;124mlat\u001b[39m\u001b[38;5;124m'\u001b[39m: p\u001b[38;5;241m.\u001b[39mlatitude,\n\u001b[1;32m      5\u001b[0m      \u001b[38;5;124m'\u001b[39m\u001b[38;5;124mlon\u001b[39m\u001b[38;5;124m'\u001b[39m: p\u001b[38;5;241m.\u001b[39mlongitude,\n\u001b[1;32m      6\u001b[0m      \u001b[38;5;124m'\u001b[39m\u001b[38;5;124mtime\u001b[39m\u001b[38;5;124m'\u001b[39m: p\u001b[38;5;241m.\u001b[39mtime} \u001b[38;5;28;01mfor\u001b[39;00m p \u001b[38;5;129;01min\u001b[39;00m setment\u001b[38;5;241m.\u001b[39mpoints])\n",
      "\u001b[0;31mAttributeError\u001b[0m: 'PointData' object has no attribute 'tracks'"
     ]
    }
   ],
   "source": [
    "j = 0\n",
    "gpxFile.get_points_data(distance_2d=True)[j].tracks().segments[j]\n",
    "coords = pd.DataFrame([\n",
    "    {'lat': p.latitude,\n",
    "     'lon': p.longitude,\n",
    "     'time': p.time} for p in setment.points])"
   ]
  },
  {
   "cell_type": "code",
   "execution_count": 80,
   "metadata": {},
   "outputs": [],
   "source": [
    "# Convert to a dataframe one point at a time.\n",
    "points = []\n",
    "for segment in gpxFile.tracks[0].segments:\n",
    "    for p in segment.points:\n",
    "        points.append({\n",
    "            'time': p.time,\n",
    "            'latitude': p.latitude,\n",
    "            'longitude': p.longitude,\n",
    "            'elevation': p.elevation,\n",
    "        })\n",
    "df = pd.DataFrame.from_records(points)"
   ]
  },
  {
   "cell_type": "code",
   "execution_count": 81,
   "metadata": {},
   "outputs": [
    {
     "data": {
      "text/html": [
       "<div>\n",
       "<style scoped>\n",
       "    .dataframe tbody tr th:only-of-type {\n",
       "        vertical-align: middle;\n",
       "    }\n",
       "\n",
       "    .dataframe tbody tr th {\n",
       "        vertical-align: top;\n",
       "    }\n",
       "\n",
       "    .dataframe thead th {\n",
       "        text-align: right;\n",
       "    }\n",
       "</style>\n",
       "<table border=\"1\" class=\"dataframe\">\n",
       "  <thead>\n",
       "    <tr style=\"text-align: right;\">\n",
       "      <th></th>\n",
       "      <th>time</th>\n",
       "      <th>latitude</th>\n",
       "      <th>longitude</th>\n",
       "      <th>elevation</th>\n",
       "    </tr>\n",
       "  </thead>\n",
       "  <tbody>\n",
       "    <tr>\n",
       "      <th>0</th>\n",
       "      <td>2022-04-18 00:00:00+00:00</td>\n",
       "      <td>43.23870</td>\n",
       "      <td>13.75904</td>\n",
       "      <td>19.0</td>\n",
       "    </tr>\n",
       "    <tr>\n",
       "      <th>1</th>\n",
       "      <td>2022-04-18 00:00:02+00:00</td>\n",
       "      <td>43.23864</td>\n",
       "      <td>13.75896</td>\n",
       "      <td>19.0</td>\n",
       "    </tr>\n",
       "    <tr>\n",
       "      <th>2</th>\n",
       "      <td>2022-04-18 00:00:02+00:00</td>\n",
       "      <td>43.23860</td>\n",
       "      <td>13.75896</td>\n",
       "      <td>20.0</td>\n",
       "    </tr>\n",
       "    <tr>\n",
       "      <th>3</th>\n",
       "      <td>2022-04-18 00:00:04+00:00</td>\n",
       "      <td>43.23855</td>\n",
       "      <td>13.75898</td>\n",
       "      <td>19.0</td>\n",
       "    </tr>\n",
       "    <tr>\n",
       "      <th>4</th>\n",
       "      <td>2022-04-18 00:00:05+00:00</td>\n",
       "      <td>43.23850</td>\n",
       "      <td>13.75907</td>\n",
       "      <td>19.0</td>\n",
       "    </tr>\n",
       "  </tbody>\n",
       "</table>\n",
       "</div>"
      ],
      "text/plain": [
       "                       time  latitude  longitude  elevation\n",
       "0 2022-04-18 00:00:00+00:00  43.23870   13.75904       19.0\n",
       "1 2022-04-18 00:00:02+00:00  43.23864   13.75896       19.0\n",
       "2 2022-04-18 00:00:02+00:00  43.23860   13.75896       20.0\n",
       "3 2022-04-18 00:00:04+00:00  43.23855   13.75898       19.0\n",
       "4 2022-04-18 00:00:05+00:00  43.23850   13.75907       19.0"
      ]
     },
     "execution_count": 81,
     "metadata": {},
     "output_type": "execute_result"
    }
   ],
   "source": [
    "df.head()"
   ]
  },
  {
   "cell_type": "code",
   "execution_count": 74,
   "metadata": {},
   "outputs": [
    {
     "data": {
      "text/plain": [
       "'PointData(point=GPXTrackPoint(43.2387, 13.75904, elevation=19.0, time=datetime.datetime(2022, 4, 18, 0, 0, tzinfo=SimpleTZ(\"Z\"))), distance_from_start=0, track_no=0, segment_no=0, point_no=0)'"
      ]
     },
     "execution_count": 74,
     "metadata": {},
     "output_type": "execute_result"
    }
   ],
   "source": [
    "# https://www.youtube.com/watch?v=jAKUPm-Cul0"
   ]
  }
 ],
 "metadata": {
  "kernelspec": {
   "display_name": "Python 3 (ipykernel)",
   "language": "python",
   "name": "python3"
  },
  "language_info": {
   "codemirror_mode": {
    "name": "ipython",
    "version": 3
   },
   "file_extension": ".py",
   "mimetype": "text/x-python",
   "name": "python",
   "nbconvert_exporter": "python",
   "pygments_lexer": "ipython3",
   "version": "3.9.12"
  }
 },
 "nbformat": 4,
 "nbformat_minor": 2
}
